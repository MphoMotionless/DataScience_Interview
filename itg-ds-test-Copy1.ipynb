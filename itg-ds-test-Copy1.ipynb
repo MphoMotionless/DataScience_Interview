{
 "cells": [
  {
   "cell_type": "markdown",
   "metadata": {},
   "source": [
    "## Challenge 1 - Function Creation\n",
    "\n",
    "##### I want you to create a multiply function, that take into two numbers and return whatever thouse numbers are multiplied togheter "
   ]
  },
  {
   "cell_type": "code",
   "execution_count": 3,
   "metadata": {},
   "outputs": [],
   "source": [
    "# Define the multiply function below.\n",
    "# Make sure the function returns the correct value!\n",
    "\n",
    "#answer = multiply(5,10)\n",
    "from __future__ import annotations\n",
    "import numpy as np\n",
    "\n",
    "def multiply(a:int | float, b: int | float) -> int|float:\n",
    "    return a*b\n",
    "\n"
   ]
  },
  {
   "cell_type": "code",
   "execution_count": 55,
   "metadata": {},
   "outputs": [
    {
     "data": {
      "text/plain": [
       "50.0"
      ]
     },
     "execution_count": 55,
     "metadata": {},
     "output_type": "execute_result"
    }
   ],
   "source": [
    "multiply(5.0,10)"
   ]
  },
  {
   "cell_type": "markdown",
   "metadata": {},
   "source": [
    "# -------------------------------------------------------------------"
   ]
  },
  {
   "cell_type": "markdown",
   "metadata": {},
   "source": [
    "## Challenge 2 - Read and Display a given dataset\n",
    "##### Import a given dataset and display all collumns with sample data available at: https://github.com/fivethirtyeight/data/tree/master/college-majors\n",
    "##### Use the recent-grads.csv file! \n",
    "##### In addition estimates and plot the covariance matrix (scatter matrix) using the two variables shared women and the unemployment rate\""
   ]
  },
  {
   "cell_type": "code",
   "execution_count": 56,
   "metadata": {},
   "outputs": [],
   "source": [
    "import pandas as pd\n",
    "from pandas.plotting import scatter_matrix\n",
    "\n",
    "pd.set_option(\"display.max_columns\", None)\n",
    "url=(r\"https://raw.githubusercontent.com/fivethirtyeight/data/master/college-majors/recent-grads.csv\")\n",
    "df = pd.read_csv(url)\n"
   ]
  },
  {
   "cell_type": "code",
   "execution_count": 57,
   "metadata": {},
   "outputs": [
    {
     "data": {
      "text/html": [
       "<div>\n",
       "<style scoped>\n",
       "    .dataframe tbody tr th:only-of-type {\n",
       "        vertical-align: middle;\n",
       "    }\n",
       "\n",
       "    .dataframe tbody tr th {\n",
       "        vertical-align: top;\n",
       "    }\n",
       "\n",
       "    .dataframe thead th {\n",
       "        text-align: right;\n",
       "    }\n",
       "</style>\n",
       "<table border=\"1\" class=\"dataframe\">\n",
       "  <thead>\n",
       "    <tr style=\"text-align: right;\">\n",
       "      <th></th>\n",
       "      <th>Rank</th>\n",
       "      <th>Major_code</th>\n",
       "      <th>Major</th>\n",
       "      <th>Total</th>\n",
       "      <th>Men</th>\n",
       "      <th>Women</th>\n",
       "      <th>Major_category</th>\n",
       "      <th>ShareWomen</th>\n",
       "      <th>Sample_size</th>\n",
       "      <th>Employed</th>\n",
       "      <th>Full_time</th>\n",
       "      <th>Part_time</th>\n",
       "      <th>Full_time_year_round</th>\n",
       "      <th>Unemployed</th>\n",
       "      <th>Unemployment_rate</th>\n",
       "      <th>Median</th>\n",
       "      <th>P25th</th>\n",
       "      <th>P75th</th>\n",
       "      <th>College_jobs</th>\n",
       "      <th>Non_college_jobs</th>\n",
       "      <th>Low_wage_jobs</th>\n",
       "    </tr>\n",
       "  </thead>\n",
       "  <tbody>\n",
       "    <tr>\n",
       "      <th>0</th>\n",
       "      <td>1</td>\n",
       "      <td>2419</td>\n",
       "      <td>PETROLEUM ENGINEERING</td>\n",
       "      <td>2339.0</td>\n",
       "      <td>2057.0</td>\n",
       "      <td>282.0</td>\n",
       "      <td>Engineering</td>\n",
       "      <td>0.120564</td>\n",
       "      <td>36</td>\n",
       "      <td>1976</td>\n",
       "      <td>1849</td>\n",
       "      <td>270</td>\n",
       "      <td>1207</td>\n",
       "      <td>37</td>\n",
       "      <td>0.018381</td>\n",
       "      <td>110000</td>\n",
       "      <td>95000</td>\n",
       "      <td>125000</td>\n",
       "      <td>1534</td>\n",
       "      <td>364</td>\n",
       "      <td>193</td>\n",
       "    </tr>\n",
       "    <tr>\n",
       "      <th>1</th>\n",
       "      <td>2</td>\n",
       "      <td>2416</td>\n",
       "      <td>MINING AND MINERAL ENGINEERING</td>\n",
       "      <td>756.0</td>\n",
       "      <td>679.0</td>\n",
       "      <td>77.0</td>\n",
       "      <td>Engineering</td>\n",
       "      <td>0.101852</td>\n",
       "      <td>7</td>\n",
       "      <td>640</td>\n",
       "      <td>556</td>\n",
       "      <td>170</td>\n",
       "      <td>388</td>\n",
       "      <td>85</td>\n",
       "      <td>0.117241</td>\n",
       "      <td>75000</td>\n",
       "      <td>55000</td>\n",
       "      <td>90000</td>\n",
       "      <td>350</td>\n",
       "      <td>257</td>\n",
       "      <td>50</td>\n",
       "    </tr>\n",
       "    <tr>\n",
       "      <th>2</th>\n",
       "      <td>3</td>\n",
       "      <td>2415</td>\n",
       "      <td>METALLURGICAL ENGINEERING</td>\n",
       "      <td>856.0</td>\n",
       "      <td>725.0</td>\n",
       "      <td>131.0</td>\n",
       "      <td>Engineering</td>\n",
       "      <td>0.153037</td>\n",
       "      <td>3</td>\n",
       "      <td>648</td>\n",
       "      <td>558</td>\n",
       "      <td>133</td>\n",
       "      <td>340</td>\n",
       "      <td>16</td>\n",
       "      <td>0.024096</td>\n",
       "      <td>73000</td>\n",
       "      <td>50000</td>\n",
       "      <td>105000</td>\n",
       "      <td>456</td>\n",
       "      <td>176</td>\n",
       "      <td>0</td>\n",
       "    </tr>\n",
       "    <tr>\n",
       "      <th>3</th>\n",
       "      <td>4</td>\n",
       "      <td>2417</td>\n",
       "      <td>NAVAL ARCHITECTURE AND MARINE ENGINEERING</td>\n",
       "      <td>1258.0</td>\n",
       "      <td>1123.0</td>\n",
       "      <td>135.0</td>\n",
       "      <td>Engineering</td>\n",
       "      <td>0.107313</td>\n",
       "      <td>16</td>\n",
       "      <td>758</td>\n",
       "      <td>1069</td>\n",
       "      <td>150</td>\n",
       "      <td>692</td>\n",
       "      <td>40</td>\n",
       "      <td>0.050125</td>\n",
       "      <td>70000</td>\n",
       "      <td>43000</td>\n",
       "      <td>80000</td>\n",
       "      <td>529</td>\n",
       "      <td>102</td>\n",
       "      <td>0</td>\n",
       "    </tr>\n",
       "    <tr>\n",
       "      <th>4</th>\n",
       "      <td>5</td>\n",
       "      <td>2405</td>\n",
       "      <td>CHEMICAL ENGINEERING</td>\n",
       "      <td>32260.0</td>\n",
       "      <td>21239.0</td>\n",
       "      <td>11021.0</td>\n",
       "      <td>Engineering</td>\n",
       "      <td>0.341631</td>\n",
       "      <td>289</td>\n",
       "      <td>25694</td>\n",
       "      <td>23170</td>\n",
       "      <td>5180</td>\n",
       "      <td>16697</td>\n",
       "      <td>1672</td>\n",
       "      <td>0.061098</td>\n",
       "      <td>65000</td>\n",
       "      <td>50000</td>\n",
       "      <td>75000</td>\n",
       "      <td>18314</td>\n",
       "      <td>4440</td>\n",
       "      <td>972</td>\n",
       "    </tr>\n",
       "  </tbody>\n",
       "</table>\n",
       "</div>"
      ],
      "text/plain": [
       "   Rank  Major_code                                      Major    Total  \\\n",
       "0     1        2419                      PETROLEUM ENGINEERING   2339.0   \n",
       "1     2        2416             MINING AND MINERAL ENGINEERING    756.0   \n",
       "2     3        2415                  METALLURGICAL ENGINEERING    856.0   \n",
       "3     4        2417  NAVAL ARCHITECTURE AND MARINE ENGINEERING   1258.0   \n",
       "4     5        2405                       CHEMICAL ENGINEERING  32260.0   \n",
       "\n",
       "       Men    Women Major_category  ShareWomen  Sample_size  Employed  \\\n",
       "0   2057.0    282.0    Engineering    0.120564           36      1976   \n",
       "1    679.0     77.0    Engineering    0.101852            7       640   \n",
       "2    725.0    131.0    Engineering    0.153037            3       648   \n",
       "3   1123.0    135.0    Engineering    0.107313           16       758   \n",
       "4  21239.0  11021.0    Engineering    0.341631          289     25694   \n",
       "\n",
       "   Full_time  Part_time  Full_time_year_round  Unemployed  Unemployment_rate  \\\n",
       "0       1849        270                  1207          37           0.018381   \n",
       "1        556        170                   388          85           0.117241   \n",
       "2        558        133                   340          16           0.024096   \n",
       "3       1069        150                   692          40           0.050125   \n",
       "4      23170       5180                 16697        1672           0.061098   \n",
       "\n",
       "   Median  P25th   P75th  College_jobs  Non_college_jobs  Low_wage_jobs  \n",
       "0  110000  95000  125000          1534               364            193  \n",
       "1   75000  55000   90000           350               257             50  \n",
       "2   73000  50000  105000           456               176              0  \n",
       "3   70000  43000   80000           529               102              0  \n",
       "4   65000  50000   75000         18314              4440            972  "
      ]
     },
     "execution_count": 57,
     "metadata": {},
     "output_type": "execute_result"
    }
   ],
   "source": [
    "df.head(5)"
   ]
  },
  {
   "cell_type": "code",
   "execution_count": 8,
   "metadata": {},
   "outputs": [
    {
     "data": {
      "text/plain": [
       "173"
      ]
     },
     "execution_count": 8,
     "metadata": {},
     "output_type": "execute_result"
    }
   ],
   "source": [
    "len(df)"
   ]
  },
  {
   "cell_type": "code",
   "execution_count": 9,
   "metadata": {},
   "outputs": [
    {
     "data": {
      "text/plain": [
       "173"
      ]
     },
     "execution_count": 9,
     "metadata": {},
     "output_type": "execute_result"
    }
   ],
   "source": [
    "len(np.unique(df.Major.values))"
   ]
  },
  {
   "cell_type": "code",
   "execution_count": 10,
   "metadata": {},
   "outputs": [],
   "source": [
    "attributes = [\"ShareWomen\",\"Unemployment_rate\"]"
   ]
  },
  {
   "cell_type": "code",
   "execution_count": 11,
   "metadata": {},
   "outputs": [
    {
     "data": {
      "text/plain": [
       "0.0005135045732915318"
      ]
     },
     "execution_count": 11,
     "metadata": {},
     "output_type": "execute_result"
    }
   ],
   "source": [
    "df['ShareWomen'].cov(df['Unemployment_rate'])"
   ]
  },
  {
   "cell_type": "code",
   "execution_count": 12,
   "metadata": {},
   "outputs": [
    {
     "data": {
      "text/plain": [
       "0.07320457867229313"
      ]
     },
     "execution_count": 12,
     "metadata": {},
     "output_type": "execute_result"
    }
   ],
   "source": [
    "df['ShareWomen'].corr(df['Unemployment_rate'])"
   ]
  },
  {
   "cell_type": "code",
   "execution_count": 13,
   "metadata": {},
   "outputs": [],
   "source": [
    "# data = df[['ShareWomen','Unemployment_rate']]\n",
    "data = df[attributes]\n",
    "correlation = data.corr(method='pearson')"
   ]
  },
  {
   "cell_type": "code",
   "execution_count": 14,
   "metadata": {},
   "outputs": [
    {
     "data": {
      "text/html": [
       "<div>\n",
       "<style scoped>\n",
       "    .dataframe tbody tr th:only-of-type {\n",
       "        vertical-align: middle;\n",
       "    }\n",
       "\n",
       "    .dataframe tbody tr th {\n",
       "        vertical-align: top;\n",
       "    }\n",
       "\n",
       "    .dataframe thead th {\n",
       "        text-align: right;\n",
       "    }\n",
       "</style>\n",
       "<table border=\"1\" class=\"dataframe\">\n",
       "  <thead>\n",
       "    <tr style=\"text-align: right;\">\n",
       "      <th></th>\n",
       "      <th>ShareWomen</th>\n",
       "      <th>Unemployment_rate</th>\n",
       "    </tr>\n",
       "  </thead>\n",
       "  <tbody>\n",
       "    <tr>\n",
       "      <th>ShareWomen</th>\n",
       "      <td>1.000000</td>\n",
       "      <td>0.073205</td>\n",
       "    </tr>\n",
       "    <tr>\n",
       "      <th>Unemployment_rate</th>\n",
       "      <td>0.073205</td>\n",
       "      <td>1.000000</td>\n",
       "    </tr>\n",
       "  </tbody>\n",
       "</table>\n",
       "</div>"
      ],
      "text/plain": [
       "                   ShareWomen  Unemployment_rate\n",
       "ShareWomen           1.000000           0.073205\n",
       "Unemployment_rate    0.073205           1.000000"
      ]
     },
     "execution_count": 14,
     "metadata": {},
     "output_type": "execute_result"
    }
   ],
   "source": [
    "correlation"
   ]
  },
  {
   "cell_type": "code",
   "execution_count": 15,
   "metadata": {},
   "outputs": [
    {
     "data": {
      "text/plain": [
       "array([[<matplotlib.axes._subplots.AxesSubplot object at 0x2b68d7d1f070>,\n",
       "        <matplotlib.axes._subplots.AxesSubplot object at 0x2b68d7d934c0>],\n",
       "       [<matplotlib.axes._subplots.AxesSubplot object at 0x2b68d7dc1940>,\n",
       "        <matplotlib.axes._subplots.AxesSubplot object at 0x2b68d7deed90>]],\n",
       "      dtype=object)"
      ]
     },
     "execution_count": 15,
     "metadata": {},
     "output_type": "execute_result"
    },
    {
     "data": {
      "image/png": "[encoded data removed]",
      "text/plain": [
       "<Figure size 864x576 with 4 Axes>"
      ]
     },
     "metadata": {
      "needs_background": "light"
     },
     "output_type": "display_data"
    }
   ],
   "source": [
    "scatter_matrix(df[attributes],figsize=(12,8))"
   ]
  },
  {
   "cell_type": "code",
   "execution_count": 16,
   "metadata": {},
   "outputs": [
    {
     "data": {
      "text/plain": [
       "<matplotlib.axes._subplots.AxesSubplot at 0x2b68d80fa2e0>"
      ]
     },
     "execution_count": 16,
     "metadata": {},
     "output_type": "execute_result"
    },
    {
     "data": {
      "image/png": "[encoded data removed]",
      "text/plain": [
       "<Figure size 432x288 with 1 Axes>"
      ]
     },
     "metadata": {
      "needs_background": "light"
     },
     "output_type": "display_data"
    }
   ],
   "source": [
    "df.plot(kind=\"scatter\", x=\"Unemployment_rate\", y=\"ShareWomen\",\n",
    "alpha=0.5)"
   ]
  },
  {
   "cell_type": "code",
   "execution_count": 17,
   "metadata": {},
   "outputs": [
    {
     "data": {
      "text/html": [
       "<div>\n",
       "<style scoped>\n",
       "    .dataframe tbody tr th:only-of-type {\n",
       "        vertical-align: middle;\n",
       "    }\n",
       "\n",
       "    .dataframe tbody tr th {\n",
       "        vertical-align: top;\n",
       "    }\n",
       "\n",
       "    .dataframe thead th {\n",
       "        text-align: right;\n",
       "    }\n",
       "</style>\n",
       "<table border=\"1\" class=\"dataframe\">\n",
       "  <thead>\n",
       "    <tr style=\"text-align: right;\">\n",
       "      <th></th>\n",
       "      <th>Rank</th>\n",
       "      <th>Major_code</th>\n",
       "      <th>Total</th>\n",
       "      <th>Men</th>\n",
       "      <th>Women</th>\n",
       "      <th>ShareWomen</th>\n",
       "      <th>Sample_size</th>\n",
       "      <th>Employed</th>\n",
       "      <th>Full_time</th>\n",
       "      <th>Part_time</th>\n",
       "      <th>Full_time_year_round</th>\n",
       "      <th>Unemployed</th>\n",
       "      <th>Unemployment_rate</th>\n",
       "      <th>Median</th>\n",
       "      <th>P25th</th>\n",
       "      <th>P75th</th>\n",
       "      <th>College_jobs</th>\n",
       "      <th>Non_college_jobs</th>\n",
       "      <th>Low_wage_jobs</th>\n",
       "    </tr>\n",
       "  </thead>\n",
       "  <tbody>\n",
       "    <tr>\n",
       "      <th>Rank</th>\n",
       "      <td>1.000000</td>\n",
       "      <td>0.108429</td>\n",
       "      <td>0.071137</td>\n",
       "      <td>-0.094780</td>\n",
       "      <td>0.174913</td>\n",
       "      <td>0.643781</td>\n",
       "      <td>0.008492</td>\n",
       "      <td>0.070751</td>\n",
       "      <td>0.034725</td>\n",
       "      <td>0.193174</td>\n",
       "      <td>0.020418</td>\n",
       "      <td>0.090078</td>\n",
       "      <td>0.068900</td>\n",
       "      <td>-0.873308</td>\n",
       "      <td>-0.735688</td>\n",
       "      <td>-0.802686</td>\n",
       "      <td>0.052639</td>\n",
       "      <td>0.144689</td>\n",
       "      <td>0.202920</td>\n",
       "    </tr>\n",
       "    <tr>\n",
       "      <th>Major_code</th>\n",
       "      <td>0.108429</td>\n",
       "      <td>1.000000</td>\n",
       "      <td>0.196784</td>\n",
       "      <td>0.179299</td>\n",
       "      <td>0.181459</td>\n",
       "      <td>0.259211</td>\n",
       "      <td>0.206580</td>\n",
       "      <td>0.200925</td>\n",
       "      <td>0.199397</td>\n",
       "      <td>0.195184</td>\n",
       "      <td>0.205634</td>\n",
       "      <td>0.223418</td>\n",
       "      <td>0.126603</td>\n",
       "      <td>-0.176072</td>\n",
       "      <td>-0.166864</td>\n",
       "      <td>-0.094556</td>\n",
       "      <td>0.041198</td>\n",
       "      <td>0.232425</td>\n",
       "      <td>0.225294</td>\n",
       "    </tr>\n",
       "    <tr>\n",
       "      <th>Total</th>\n",
       "      <td>0.071137</td>\n",
       "      <td>0.196784</td>\n",
       "      <td>1.000000</td>\n",
       "      <td>0.878088</td>\n",
       "      <td>0.944764</td>\n",
       "      <td>0.142999</td>\n",
       "      <td>0.945575</td>\n",
       "      <td>0.996214</td>\n",
       "      <td>0.989339</td>\n",
       "      <td>0.950268</td>\n",
       "      <td>0.981112</td>\n",
       "      <td>0.974768</td>\n",
       "      <td>0.083192</td>\n",
       "      <td>-0.106738</td>\n",
       "      <td>-0.071926</td>\n",
       "      <td>-0.083198</td>\n",
       "      <td>0.800465</td>\n",
       "      <td>0.941247</td>\n",
       "      <td>0.935510</td>\n",
       "    </tr>\n",
       "    <tr>\n",
       "      <th>Men</th>\n",
       "      <td>-0.094780</td>\n",
       "      <td>0.179299</td>\n",
       "      <td>0.878088</td>\n",
       "      <td>1.000000</td>\n",
       "      <td>0.672759</td>\n",
       "      <td>-0.112014</td>\n",
       "      <td>0.875176</td>\n",
       "      <td>0.870605</td>\n",
       "      <td>0.893563</td>\n",
       "      <td>0.751592</td>\n",
       "      <td>0.892454</td>\n",
       "      <td>0.869411</td>\n",
       "      <td>0.101502</td>\n",
       "      <td>0.025991</td>\n",
       "      <td>0.038725</td>\n",
       "      <td>0.052393</td>\n",
       "      <td>0.563168</td>\n",
       "      <td>0.851500</td>\n",
       "      <td>0.791336</td>\n",
       "    </tr>\n",
       "    <tr>\n",
       "      <th>Women</th>\n",
       "      <td>0.174913</td>\n",
       "      <td>0.181459</td>\n",
       "      <td>0.944764</td>\n",
       "      <td>0.672759</td>\n",
       "      <td>1.000000</td>\n",
       "      <td>0.297832</td>\n",
       "      <td>0.862606</td>\n",
       "      <td>0.944037</td>\n",
       "      <td>0.917681</td>\n",
       "      <td>0.954513</td>\n",
       "      <td>0.905720</td>\n",
       "      <td>0.911694</td>\n",
       "      <td>0.059108</td>\n",
       "      <td>-0.182842</td>\n",
       "      <td>-0.137738</td>\n",
       "      <td>-0.164528</td>\n",
       "      <td>0.851946</td>\n",
       "      <td>0.872132</td>\n",
       "      <td>0.904470</td>\n",
       "    </tr>\n",
       "    <tr>\n",
       "      <th>ShareWomen</th>\n",
       "      <td>0.643781</td>\n",
       "      <td>0.259211</td>\n",
       "      <td>0.142999</td>\n",
       "      <td>-0.112014</td>\n",
       "      <td>0.297832</td>\n",
       "      <td>1.000000</td>\n",
       "      <td>0.097496</td>\n",
       "      <td>0.147547</td>\n",
       "      <td>0.120200</td>\n",
       "      <td>0.212290</td>\n",
       "      <td>0.112523</td>\n",
       "      <td>0.121243</td>\n",
       "      <td>0.073205</td>\n",
       "      <td>-0.618690</td>\n",
       "      <td>-0.500199</td>\n",
       "      <td>-0.586932</td>\n",
       "      <td>0.195550</td>\n",
       "      <td>0.137007</td>\n",
       "      <td>0.187850</td>\n",
       "    </tr>\n",
       "    <tr>\n",
       "      <th>Sample_size</th>\n",
       "      <td>0.008492</td>\n",
       "      <td>0.206580</td>\n",
       "      <td>0.945575</td>\n",
       "      <td>0.875176</td>\n",
       "      <td>0.862606</td>\n",
       "      <td>0.097496</td>\n",
       "      <td>1.000000</td>\n",
       "      <td>0.964462</td>\n",
       "      <td>0.978396</td>\n",
       "      <td>0.824824</td>\n",
       "      <td>0.985235</td>\n",
       "      <td>0.918059</td>\n",
       "      <td>0.059872</td>\n",
       "      <td>-0.067578</td>\n",
       "      <td>-0.025229</td>\n",
       "      <td>-0.055737</td>\n",
       "      <td>0.701704</td>\n",
       "      <td>0.915464</td>\n",
       "      <td>0.860319</td>\n",
       "    </tr>\n",
       "    <tr>\n",
       "      <th>Employed</th>\n",
       "      <td>0.070751</td>\n",
       "      <td>0.200925</td>\n",
       "      <td>0.996214</td>\n",
       "      <td>0.870605</td>\n",
       "      <td>0.944037</td>\n",
       "      <td>0.147547</td>\n",
       "      <td>0.964462</td>\n",
       "      <td>1.000000</td>\n",
       "      <td>0.995838</td>\n",
       "      <td>0.934528</td>\n",
       "      <td>0.991047</td>\n",
       "      <td>0.968900</td>\n",
       "      <td>0.068056</td>\n",
       "      <td>-0.107547</td>\n",
       "      <td>-0.067514</td>\n",
       "      <td>-0.087560</td>\n",
       "      <td>0.797534</td>\n",
       "      <td>0.941326</td>\n",
       "      <td>0.927224</td>\n",
       "    </tr>\n",
       "    <tr>\n",
       "      <th>Full_time</th>\n",
       "      <td>0.034725</td>\n",
       "      <td>0.199397</td>\n",
       "      <td>0.989339</td>\n",
       "      <td>0.893563</td>\n",
       "      <td>0.917681</td>\n",
       "      <td>0.120200</td>\n",
       "      <td>0.978396</td>\n",
       "      <td>0.995838</td>\n",
       "      <td>1.000000</td>\n",
       "      <td>0.900877</td>\n",
       "      <td>0.998203</td>\n",
       "      <td>0.960102</td>\n",
       "      <td>0.063349</td>\n",
       "      <td>-0.082258</td>\n",
       "      <td>-0.042957</td>\n",
       "      <td>-0.065073</td>\n",
       "      <td>0.772515</td>\n",
       "      <td>0.933124</td>\n",
       "      <td>0.904852</td>\n",
       "    </tr>\n",
       "    <tr>\n",
       "      <th>Part_time</th>\n",
       "      <td>0.193174</td>\n",
       "      <td>0.195184</td>\n",
       "      <td>0.950268</td>\n",
       "      <td>0.751592</td>\n",
       "      <td>0.954513</td>\n",
       "      <td>0.212290</td>\n",
       "      <td>0.824824</td>\n",
       "      <td>0.934528</td>\n",
       "      <td>0.900877</td>\n",
       "      <td>1.000000</td>\n",
       "      <td>0.880855</td>\n",
       "      <td>0.945094</td>\n",
       "      <td>0.108944</td>\n",
       "      <td>-0.190124</td>\n",
       "      <td>-0.153509</td>\n",
       "      <td>-0.158220</td>\n",
       "      <td>0.804987</td>\n",
       "      <td>0.909634</td>\n",
       "      <td>0.951593</td>\n",
       "    </tr>\n",
       "    <tr>\n",
       "      <th>Full_time_year_round</th>\n",
       "      <td>0.020418</td>\n",
       "      <td>0.205634</td>\n",
       "      <td>0.981112</td>\n",
       "      <td>0.892454</td>\n",
       "      <td>0.905720</td>\n",
       "      <td>0.112523</td>\n",
       "      <td>0.985235</td>\n",
       "      <td>0.991047</td>\n",
       "      <td>0.998203</td>\n",
       "      <td>0.880855</td>\n",
       "      <td>1.000000</td>\n",
       "      <td>0.950711</td>\n",
       "      <td>0.057171</td>\n",
       "      <td>-0.072982</td>\n",
       "      <td>-0.033034</td>\n",
       "      <td>-0.056932</td>\n",
       "      <td>0.755254</td>\n",
       "      <td>0.928874</td>\n",
       "      <td>0.892847</td>\n",
       "    </tr>\n",
       "    <tr>\n",
       "      <th>Unemployed</th>\n",
       "      <td>0.090078</td>\n",
       "      <td>0.223418</td>\n",
       "      <td>0.974768</td>\n",
       "      <td>0.869411</td>\n",
       "      <td>0.911694</td>\n",
       "      <td>0.121243</td>\n",
       "      <td>0.918059</td>\n",
       "      <td>0.968900</td>\n",
       "      <td>0.960102</td>\n",
       "      <td>0.945094</td>\n",
       "      <td>0.950711</td>\n",
       "      <td>1.000000</td>\n",
       "      <td>0.165282</td>\n",
       "      <td>-0.126386</td>\n",
       "      <td>-0.092185</td>\n",
       "      <td>-0.097128</td>\n",
       "      <td>0.713804</td>\n",
       "      <td>0.956532</td>\n",
       "      <td>0.955388</td>\n",
       "    </tr>\n",
       "    <tr>\n",
       "      <th>Unemployment_rate</th>\n",
       "      <td>0.068900</td>\n",
       "      <td>0.126603</td>\n",
       "      <td>0.083192</td>\n",
       "      <td>0.101502</td>\n",
       "      <td>0.059108</td>\n",
       "      <td>0.073205</td>\n",
       "      <td>0.059872</td>\n",
       "      <td>0.068056</td>\n",
       "      <td>0.063349</td>\n",
       "      <td>0.108944</td>\n",
       "      <td>0.057171</td>\n",
       "      <td>0.165282</td>\n",
       "      <td>1.000000</td>\n",
       "      <td>-0.108833</td>\n",
       "      <td>-0.096156</td>\n",
       "      <td>-0.032768</td>\n",
       "      <td>-0.014552</td>\n",
       "      <td>0.116365</td>\n",
       "      <td>0.128444</td>\n",
       "    </tr>\n",
       "    <tr>\n",
       "      <th>Median</th>\n",
       "      <td>-0.873308</td>\n",
       "      <td>-0.176072</td>\n",
       "      <td>-0.106738</td>\n",
       "      <td>0.025991</td>\n",
       "      <td>-0.182842</td>\n",
       "      <td>-0.618690</td>\n",
       "      <td>-0.067578</td>\n",
       "      <td>-0.107547</td>\n",
       "      <td>-0.082258</td>\n",
       "      <td>-0.190124</td>\n",
       "      <td>-0.072982</td>\n",
       "      <td>-0.126386</td>\n",
       "      <td>-0.108833</td>\n",
       "      <td>1.000000</td>\n",
       "      <td>0.891683</td>\n",
       "      <td>0.901923</td>\n",
       "      <td>-0.050276</td>\n",
       "      <td>-0.174363</td>\n",
       "      <td>-0.209431</td>\n",
       "    </tr>\n",
       "    <tr>\n",
       "      <th>P25th</th>\n",
       "      <td>-0.735688</td>\n",
       "      <td>-0.166864</td>\n",
       "      <td>-0.071926</td>\n",
       "      <td>0.038725</td>\n",
       "      <td>-0.137738</td>\n",
       "      <td>-0.500199</td>\n",
       "      <td>-0.025229</td>\n",
       "      <td>-0.067514</td>\n",
       "      <td>-0.042957</td>\n",
       "      <td>-0.153509</td>\n",
       "      <td>-0.033034</td>\n",
       "      <td>-0.092185</td>\n",
       "      <td>-0.096156</td>\n",
       "      <td>0.891683</td>\n",
       "      <td>1.000000</td>\n",
       "      <td>0.734491</td>\n",
       "      <td>-0.011554</td>\n",
       "      <td>-0.138877</td>\n",
       "      <td>-0.173835</td>\n",
       "    </tr>\n",
       "    <tr>\n",
       "      <th>P75th</th>\n",
       "      <td>-0.802686</td>\n",
       "      <td>-0.094556</td>\n",
       "      <td>-0.083198</td>\n",
       "      <td>0.052393</td>\n",
       "      <td>-0.164528</td>\n",
       "      <td>-0.586932</td>\n",
       "      <td>-0.055737</td>\n",
       "      <td>-0.087560</td>\n",
       "      <td>-0.065073</td>\n",
       "      <td>-0.158220</td>\n",
       "      <td>-0.056932</td>\n",
       "      <td>-0.097128</td>\n",
       "      <td>-0.032768</td>\n",
       "      <td>0.901923</td>\n",
       "      <td>0.734491</td>\n",
       "      <td>1.000000</td>\n",
       "      <td>-0.056481</td>\n",
       "      <td>-0.139345</td>\n",
       "      <td>-0.173474</td>\n",
       "    </tr>\n",
       "    <tr>\n",
       "      <th>College_jobs</th>\n",
       "      <td>0.052639</td>\n",
       "      <td>0.041198</td>\n",
       "      <td>0.800465</td>\n",
       "      <td>0.563168</td>\n",
       "      <td>0.851946</td>\n",
       "      <td>0.195550</td>\n",
       "      <td>0.701704</td>\n",
       "      <td>0.797534</td>\n",
       "      <td>0.772515</td>\n",
       "      <td>0.804987</td>\n",
       "      <td>0.755254</td>\n",
       "      <td>0.713804</td>\n",
       "      <td>-0.014552</td>\n",
       "      <td>-0.050276</td>\n",
       "      <td>-0.011554</td>\n",
       "      <td>-0.056481</td>\n",
       "      <td>1.000000</td>\n",
       "      <td>0.613474</td>\n",
       "      <td>0.650238</td>\n",
       "    </tr>\n",
       "    <tr>\n",
       "      <th>Non_college_jobs</th>\n",
       "      <td>0.144689</td>\n",
       "      <td>0.232425</td>\n",
       "      <td>0.941247</td>\n",
       "      <td>0.851500</td>\n",
       "      <td>0.872132</td>\n",
       "      <td>0.137007</td>\n",
       "      <td>0.915464</td>\n",
       "      <td>0.941326</td>\n",
       "      <td>0.933124</td>\n",
       "      <td>0.909634</td>\n",
       "      <td>0.928874</td>\n",
       "      <td>0.956532</td>\n",
       "      <td>0.116365</td>\n",
       "      <td>-0.174363</td>\n",
       "      <td>-0.138877</td>\n",
       "      <td>-0.139345</td>\n",
       "      <td>0.613474</td>\n",
       "      <td>1.000000</td>\n",
       "      <td>0.975733</td>\n",
       "    </tr>\n",
       "    <tr>\n",
       "      <th>Low_wage_jobs</th>\n",
       "      <td>0.202920</td>\n",
       "      <td>0.225294</td>\n",
       "      <td>0.935510</td>\n",
       "      <td>0.791336</td>\n",
       "      <td>0.904470</td>\n",
       "      <td>0.187850</td>\n",
       "      <td>0.860319</td>\n",
       "      <td>0.927224</td>\n",
       "      <td>0.904852</td>\n",
       "      <td>0.951593</td>\n",
       "      <td>0.892847</td>\n",
       "      <td>0.955388</td>\n",
       "      <td>0.128444</td>\n",
       "      <td>-0.209431</td>\n",
       "      <td>-0.173835</td>\n",
       "      <td>-0.173474</td>\n",
       "      <td>0.650238</td>\n",
       "      <td>0.975733</td>\n",
       "      <td>1.000000</td>\n",
       "    </tr>\n",
       "  </tbody>\n",
       "</table>\n",
       "</div>"
      ],
      "text/plain": [
       "                          Rank  Major_code     Total       Men     Women  \\\n",
       "Rank                  1.000000    0.108429  0.071137 -0.094780  0.174913   \n",
       "Major_code            0.108429    1.000000  0.196784  0.179299  0.181459   \n",
       "Total                 0.071137    0.196784  1.000000  0.878088  0.944764   \n",
       "Men                  -0.094780    0.179299  0.878088  1.000000  0.672759   \n",
       "Women                 0.174913    0.181459  0.944764  0.672759  1.000000   \n",
       "ShareWomen            0.643781    0.259211  0.142999 -0.112014  0.297832   \n",
       "Sample_size           0.008492    0.206580  0.945575  0.875176  0.862606   \n",
       "Employed              0.070751    0.200925  0.996214  0.870605  0.944037   \n",
       "Full_time             0.034725    0.199397  0.989339  0.893563  0.917681   \n",
       "Part_time             0.193174    0.195184  0.950268  0.751592  0.954513   \n",
       "Full_time_year_round  0.020418    0.205634  0.981112  0.892454  0.905720   \n",
       "Unemployed            0.090078    0.223418  0.974768  0.869411  0.911694   \n",
       "Unemployment_rate     0.068900    0.126603  0.083192  0.101502  0.059108   \n",
       "Median               -0.873308   -0.176072 -0.106738  0.025991 -0.182842   \n",
       "P25th                -0.735688   -0.166864 -0.071926  0.038725 -0.137738   \n",
       "P75th                -0.802686   -0.094556 -0.083198  0.052393 -0.164528   \n",
       "College_jobs          0.052639    0.041198  0.800465  0.563168  0.851946   \n",
       "Non_college_jobs      0.144689    0.232425  0.941247  0.851500  0.872132   \n",
       "Low_wage_jobs         0.202920    0.225294  0.935510  0.791336  0.904470   \n",
       "\n",
       "                      ShareWomen  Sample_size  Employed  Full_time  Part_time  \\\n",
       "Rank                    0.643781     0.008492  0.070751   0.034725   0.193174   \n",
       "Major_code              0.259211     0.206580  0.200925   0.199397   0.195184   \n",
       "Total                   0.142999     0.945575  0.996214   0.989339   0.950268   \n",
       "Men                    -0.112014     0.875176  0.870605   0.893563   0.751592   \n",
       "Women                   0.297832     0.862606  0.944037   0.917681   0.954513   \n",
       "ShareWomen              1.000000     0.097496  0.147547   0.120200   0.212290   \n",
       "Sample_size             0.097496     1.000000  0.964462   0.978396   0.824824   \n",
       "Employed                0.147547     0.964462  1.000000   0.995838   0.934528   \n",
       "Full_time               0.120200     0.978396  0.995838   1.000000   0.900877   \n",
       "Part_time               0.212290     0.824824  0.934528   0.900877   1.000000   \n",
       "Full_time_year_round    0.112523     0.985235  0.991047   0.998203   0.880855   \n",
       "Unemployed              0.121243     0.918059  0.968900   0.960102   0.945094   \n",
       "Unemployment_rate       0.073205     0.059872  0.068056   0.063349   0.108944   \n",
       "Median                 -0.618690    -0.067578 -0.107547  -0.082258  -0.190124   \n",
       "P25th                  -0.500199    -0.025229 -0.067514  -0.042957  -0.153509   \n",
       "P75th                  -0.586932    -0.055737 -0.087560  -0.065073  -0.158220   \n",
       "College_jobs            0.195550     0.701704  0.797534   0.772515   0.804987   \n",
       "Non_college_jobs        0.137007     0.915464  0.941326   0.933124   0.909634   \n",
       "Low_wage_jobs           0.187850     0.860319  0.927224   0.904852   0.951593   \n",
       "\n",
       "                      Full_time_year_round  Unemployed  Unemployment_rate  \\\n",
       "Rank                              0.020418    0.090078           0.068900   \n",
       "Major_code                        0.205634    0.223418           0.126603   \n",
       "Total                             0.981112    0.974768           0.083192   \n",
       "Men                               0.892454    0.869411           0.101502   \n",
       "Women                             0.905720    0.911694           0.059108   \n",
       "ShareWomen                        0.112523    0.121243           0.073205   \n",
       "Sample_size                       0.985235    0.918059           0.059872   \n",
       "Employed                          0.991047    0.968900           0.068056   \n",
       "Full_time                         0.998203    0.960102           0.063349   \n",
       "Part_time                         0.880855    0.945094           0.108944   \n",
       "Full_time_year_round              1.000000    0.950711           0.057171   \n",
       "Unemployed                        0.950711    1.000000           0.165282   \n",
       "Unemployment_rate                 0.057171    0.165282           1.000000   \n",
       "Median                           -0.072982   -0.126386          -0.108833   \n",
       "P25th                            -0.033034   -0.092185          -0.096156   \n",
       "P75th                            -0.056932   -0.097128          -0.032768   \n",
       "College_jobs                      0.755254    0.713804          -0.014552   \n",
       "Non_college_jobs                  0.928874    0.956532           0.116365   \n",
       "Low_wage_jobs                     0.892847    0.955388           0.128444   \n",
       "\n",
       "                        Median     P25th     P75th  College_jobs  \\\n",
       "Rank                 -0.873308 -0.735688 -0.802686      0.052639   \n",
       "Major_code           -0.176072 -0.166864 -0.094556      0.041198   \n",
       "Total                -0.106738 -0.071926 -0.083198      0.800465   \n",
       "Men                   0.025991  0.038725  0.052393      0.563168   \n",
       "Women                -0.182842 -0.137738 -0.164528      0.851946   \n",
       "ShareWomen           -0.618690 -0.500199 -0.586932      0.195550   \n",
       "Sample_size          -0.067578 -0.025229 -0.055737      0.701704   \n",
       "Employed             -0.107547 -0.067514 -0.087560      0.797534   \n",
       "Full_time            -0.082258 -0.042957 -0.065073      0.772515   \n",
       "Part_time            -0.190124 -0.153509 -0.158220      0.804987   \n",
       "Full_time_year_round -0.072982 -0.033034 -0.056932      0.755254   \n",
       "Unemployed           -0.126386 -0.092185 -0.097128      0.713804   \n",
       "Unemployment_rate    -0.108833 -0.096156 -0.032768     -0.014552   \n",
       "Median                1.000000  0.891683  0.901923     -0.050276   \n",
       "P25th                 0.891683  1.000000  0.734491     -0.011554   \n",
       "P75th                 0.901923  0.734491  1.000000     -0.056481   \n",
       "College_jobs         -0.050276 -0.011554 -0.056481      1.000000   \n",
       "Non_college_jobs     -0.174363 -0.138877 -0.139345      0.613474   \n",
       "Low_wage_jobs        -0.209431 -0.173835 -0.173474      0.650238   \n",
       "\n",
       "                      Non_college_jobs  Low_wage_jobs  \n",
       "Rank                          0.144689       0.202920  \n",
       "Major_code                    0.232425       0.225294  \n",
       "Total                         0.941247       0.935510  \n",
       "Men                           0.851500       0.791336  \n",
       "Women                         0.872132       0.904470  \n",
       "ShareWomen                    0.137007       0.187850  \n",
       "Sample_size                   0.915464       0.860319  \n",
       "Employed                      0.941326       0.927224  \n",
       "Full_time                     0.933124       0.904852  \n",
       "Part_time                     0.909634       0.951593  \n",
       "Full_time_year_round          0.928874       0.892847  \n",
       "Unemployed                    0.956532       0.955388  \n",
       "Unemployment_rate             0.116365       0.128444  \n",
       "Median                       -0.174363      -0.209431  \n",
       "P25th                        -0.138877      -0.173835  \n",
       "P75th                        -0.139345      -0.173474  \n",
       "College_jobs                  0.613474       0.650238  \n",
       "Non_college_jobs              1.000000       0.975733  \n",
       "Low_wage_jobs                 0.975733       1.000000  "
      ]
     },
     "execution_count": 17,
     "metadata": {},
     "output_type": "execute_result"
    }
   ],
   "source": [
    "df.corr()"
   ]
  },
  {
   "cell_type": "code",
   "execution_count": 18,
   "metadata": {},
   "outputs": [
    {
     "data": {
      "text/plain": [
       "Unemployment_rate       1.000000\n",
       "Unemployed              0.165282\n",
       "Low_wage_jobs           0.128444\n",
       "Major_code              0.126603\n",
       "Non_college_jobs        0.116365\n",
       "Part_time               0.108944\n",
       "Men                     0.101502\n",
       "Total                   0.083192\n",
       "ShareWomen              0.073205\n",
       "Rank                    0.068900\n",
       "Employed                0.068056\n",
       "Full_time               0.063349\n",
       "Sample_size             0.059872\n",
       "Women                   0.059108\n",
       "Full_time_year_round    0.057171\n",
       "College_jobs           -0.014552\n",
       "P75th                  -0.032768\n",
       "P25th                  -0.096156\n",
       "Median                 -0.108833\n",
       "Name: Unemployment_rate, dtype: float64"
      ]
     },
     "execution_count": 18,
     "metadata": {},
     "output_type": "execute_result"
    }
   ],
   "source": [
    "df.corr()['Unemployment_rate'].sort_values(ascending=False)"
   ]
  },
  {
   "cell_type": "markdown",
   "metadata": {},
   "source": [
    "# -------------------------------------------------------------------"
   ]
  },
  {
   "cell_type": "markdown",
   "metadata": {},
   "source": [
    "## Challenge 3 - Load a CNN model with one of your prefered frameworks Keras/TF/Pytorch\n",
    "##### Try to display the model summary and create a confusion matrix for the classification lables (Downstairs, Jogging, Sitting, Standing, Upstairs, Walking)\n",
    "##### Import the datasets and saved model from: https://github.com/ticlazau/itg-data-scientists/tree/main/data"
   ]
  },
  {
   "cell_type": "code",
   "execution_count": 19,
   "metadata": {},
   "outputs": [],
   "source": [
    "from keras.models import Sequential\n",
    "from keras.layers import Dense\n",
    "from keras.layers import Dropout\n",
    "from keras.layers import Flatten\n",
    "from keras.layers.convolutional import Conv2D\n",
    "from keras.layers.convolutional import MaxPooling2D\n",
    "from keras import backend as K\n",
    "from keras.utils import np_utils\n",
    "from sklearn.model_selection import train_test_split\n",
    "from sklearn.preprocessing import MinMaxScaler"
   ]
  },
  {
   "cell_type": "code",
   "execution_count": 20,
   "metadata": {},
   "outputs": [],
   "source": [
    "data = pd.read_csv(\"https://raw.githubusercontent.com/ticlazau/itg-data-scientists/main/data/itg-t0-IoT-data.csv\")"
   ]
  },
  {
   "cell_type": "code",
   "execution_count": 21,
   "metadata": {},
   "outputs": [
    {
     "data": {
      "text/plain": [
       "(549094, 6)"
      ]
     },
     "execution_count": 21,
     "metadata": {},
     "output_type": "execute_result"
    }
   ],
   "source": [
    "data.shape"
   ]
  },
  {
   "cell_type": "code",
   "execution_count": 22,
   "metadata": {},
   "outputs": [
    {
     "data": {
      "text/html": [
       "<div>\n",
       "<style scoped>\n",
       "    .dataframe tbody tr th:only-of-type {\n",
       "        vertical-align: middle;\n",
       "    }\n",
       "\n",
       "    .dataframe tbody tr th {\n",
       "        vertical-align: top;\n",
       "    }\n",
       "\n",
       "    .dataframe thead th {\n",
       "        text-align: right;\n",
       "    }\n",
       "</style>\n",
       "<table border=\"1\" class=\"dataframe\">\n",
       "  <thead>\n",
       "    <tr style=\"text-align: right;\">\n",
       "      <th></th>\n",
       "      <th>C1</th>\n",
       "      <th>C2</th>\n",
       "      <th>C3</th>\n",
       "      <th>C4</th>\n",
       "      <th>C5</th>\n",
       "      <th>C6</th>\n",
       "    </tr>\n",
       "  </thead>\n",
       "  <tbody>\n",
       "    <tr>\n",
       "      <th>0</th>\n",
       "      <td>23</td>\n",
       "      <td>Jogging</td>\n",
       "      <td>578582347000</td>\n",
       "      <td>0.61</td>\n",
       "      <td>19.57</td>\n",
       "      <td>-0.570000</td>\n",
       "    </tr>\n",
       "    <tr>\n",
       "      <th>1</th>\n",
       "      <td>15</td>\n",
       "      <td>Jogging</td>\n",
       "      <td>529052135000</td>\n",
       "      <td>-0.99</td>\n",
       "      <td>-1.53</td>\n",
       "      <td>-9.003050</td>\n",
       "    </tr>\n",
       "    <tr>\n",
       "      <th>2</th>\n",
       "      <td>19</td>\n",
       "      <td>Walking</td>\n",
       "      <td>130488011568000</td>\n",
       "      <td>2.64</td>\n",
       "      <td>13.48</td>\n",
       "      <td>-1.230000</td>\n",
       "    </tr>\n",
       "    <tr>\n",
       "      <th>3</th>\n",
       "      <td>29</td>\n",
       "      <td>Jogging</td>\n",
       "      <td>7760532207000</td>\n",
       "      <td>13.63</td>\n",
       "      <td>19.57</td>\n",
       "      <td>5.516241</td>\n",
       "    </tr>\n",
       "    <tr>\n",
       "      <th>4</th>\n",
       "      <td>10</td>\n",
       "      <td>Upstairs</td>\n",
       "      <td>5048512310000</td>\n",
       "      <td>-6.97</td>\n",
       "      <td>10.00</td>\n",
       "      <td>-1.570000</td>\n",
       "    </tr>\n",
       "  </tbody>\n",
       "</table>\n",
       "</div>"
      ],
      "text/plain": [
       "   C1        C2               C3     C4     C5        C6\n",
       "0  23   Jogging     578582347000   0.61  19.57 -0.570000\n",
       "1  15   Jogging     529052135000  -0.99  -1.53 -9.003050\n",
       "2  19   Walking  130488011568000   2.64  13.48 -1.230000\n",
       "3  29   Jogging    7760532207000  13.63  19.57  5.516241\n",
       "4  10  Upstairs    5048512310000  -6.97  10.00 -1.570000"
      ]
     },
     "execution_count": 22,
     "metadata": {},
     "output_type": "execute_result"
    }
   ],
   "source": [
    "data.head(5)"
   ]
  },
  {
   "cell_type": "code",
   "execution_count": 23,
   "metadata": {},
   "outputs": [],
   "source": [
    "labels = data[['C2']]"
   ]
  },
  {
   "cell_type": "code",
   "execution_count": 24,
   "metadata": {},
   "outputs": [
    {
     "data": {
      "text/html": [
       "<div>\n",
       "<style scoped>\n",
       "    .dataframe tbody tr th:only-of-type {\n",
       "        vertical-align: middle;\n",
       "    }\n",
       "\n",
       "    .dataframe tbody tr th {\n",
       "        vertical-align: top;\n",
       "    }\n",
       "\n",
       "    .dataframe thead th {\n",
       "        text-align: right;\n",
       "    }\n",
       "</style>\n",
       "<table border=\"1\" class=\"dataframe\">\n",
       "  <thead>\n",
       "    <tr style=\"text-align: right;\">\n",
       "      <th></th>\n",
       "      <th>C2</th>\n",
       "    </tr>\n",
       "  </thead>\n",
       "  <tbody>\n",
       "    <tr>\n",
       "      <th>0</th>\n",
       "      <td>Jogging</td>\n",
       "    </tr>\n",
       "    <tr>\n",
       "      <th>1</th>\n",
       "      <td>Jogging</td>\n",
       "    </tr>\n",
       "    <tr>\n",
       "      <th>2</th>\n",
       "      <td>Walking</td>\n",
       "    </tr>\n",
       "    <tr>\n",
       "      <th>3</th>\n",
       "      <td>Jogging</td>\n",
       "    </tr>\n",
       "    <tr>\n",
       "      <th>4</th>\n",
       "      <td>Upstairs</td>\n",
       "    </tr>\n",
       "    <tr>\n",
       "      <th>5</th>\n",
       "      <td>Jogging</td>\n",
       "    </tr>\n",
       "    <tr>\n",
       "      <th>6</th>\n",
       "      <td>Walking</td>\n",
       "    </tr>\n",
       "    <tr>\n",
       "      <th>7</th>\n",
       "      <td>Walking</td>\n",
       "    </tr>\n",
       "    <tr>\n",
       "      <th>8</th>\n",
       "      <td>Walking</td>\n",
       "    </tr>\n",
       "    <tr>\n",
       "      <th>9</th>\n",
       "      <td>Jogging</td>\n",
       "    </tr>\n",
       "  </tbody>\n",
       "</table>\n",
       "</div>"
      ],
      "text/plain": [
       "         C2\n",
       "0   Jogging\n",
       "1   Jogging\n",
       "2   Walking\n",
       "3   Jogging\n",
       "4  Upstairs\n",
       "5   Jogging\n",
       "6   Walking\n",
       "7   Walking\n",
       "8   Walking\n",
       "9   Jogging"
      ]
     },
     "execution_count": 24,
     "metadata": {},
     "output_type": "execute_result"
    }
   ],
   "source": [
    "labels.head(10)"
   ]
  },
  {
   "cell_type": "code",
   "execution_count": 25,
   "metadata": {},
   "outputs": [
    {
     "data": {
      "text/plain": [
       "array([[1.],\n",
       "       [1.],\n",
       "       [5.],\n",
       "       [1.],\n",
       "       [4.],\n",
       "       [1.],\n",
       "       [5.],\n",
       "       [5.],\n",
       "       [5.],\n",
       "       [1.]])"
      ]
     },
     "execution_count": 25,
     "metadata": {},
     "output_type": "execute_result"
    }
   ],
   "source": [
    "from sklearn.preprocessing import OrdinalEncoder\n",
    "ordinal_encoder = OrdinalEncoder()\n",
    "labels_encoded = ordinal_encoder.fit_transform(labels)\n",
    "labels_encoded[:10]"
   ]
  },
  {
   "cell_type": "code",
   "execution_count": 26,
   "metadata": {},
   "outputs": [
    {
     "data": {
      "text/plain": [
       "[array(['Downstairs', 'Jogging', 'Sitting', 'Standing', 'Upstairs',\n",
       "        'Walking'], dtype=object)]"
      ]
     },
     "execution_count": 26,
     "metadata": {},
     "output_type": "execute_result"
    }
   ],
   "source": [
    "ordinal_encoder.categories_"
   ]
  },
  {
   "cell_type": "code",
   "execution_count": 27,
   "metadata": {},
   "outputs": [
    {
     "name": "stdout",
     "output_type": "stream",
     "text": [
      "WARNING:tensorflow:Error in loading the saved optimizer state. As a result, your model is starting with a freshly initialized optimizer.\n"
     ]
    }
   ],
   "source": [
    "from tensorflow.keras.models import load_model\n",
    "model = load_model(\"/u/mpho16/itg-data-scientists/data/itg-t1-model-iot.h5\")"
   ]
  },
  {
   "cell_type": "code",
   "execution_count": 28,
   "metadata": {},
   "outputs": [
    {
     "name": "stdout",
     "output_type": "stream",
     "text": [
      "Model: \"sequential\"\n",
      "_________________________________________________________________\n",
      "Layer (type)                 Output Shape              Param #   \n",
      "=================================================================\n",
      "conv2d_1 (Conv2D)            (None, 89, 2, 128)        640       \n",
      "_________________________________________________________________\n",
      "max_pooling2d_1 (MaxPooling2 (None, 44, 1, 128)        0         \n",
      "_________________________________________________________________\n",
      "dropout_1 (Dropout)          (None, 44, 1, 128)        0         \n",
      "_________________________________________________________________\n",
      "flatten_1 (Flatten)          (None, 5632)              0         \n",
      "_________________________________________________________________\n",
      "dense_1 (Dense)              (None, 128)               721024    \n",
      "_________________________________________________________________\n",
      "dense_2 (Dense)              (None, 128)               16512     \n",
      "_________________________________________________________________\n",
      "dense_3 (Dense)              (None, 6)                 774       \n",
      "=================================================================\n",
      "Total params: 738,950\n",
      "Trainable params: 738,950\n",
      "Non-trainable params: 0\n",
      "_________________________________________________________________\n"
     ]
    }
   ],
   "source": [
    "model.summary()"
   ]
  },
  {
   "cell_type": "code",
   "execution_count": 29,
   "metadata": {},
   "outputs": [
    {
     "data": {
      "text/plain": [
       "<tensorflow.python.keras.optimizer_v2.adam.Adam at 0x2b69222f6af0>"
      ]
     },
     "execution_count": 29,
     "metadata": {},
     "output_type": "execute_result"
    }
   ],
   "source": [
    "model.optimizer"
   ]
  },
  {
   "cell_type": "code",
   "execution_count": 32,
   "metadata": {
    "tags": []
   },
   "outputs": [],
   "source": [
    "# model.get_weights()"
   ]
  },
  {
   "cell_type": "code",
   "execution_count": 33,
   "metadata": {},
   "outputs": [
    {
     "data": {
      "text/plain": [
       "<function tensorflow.python.keras.losses.categorical_crossentropy(y_true, y_pred, from_logits=False, label_smoothing=0)>"
      ]
     },
     "execution_count": 33,
     "metadata": {},
     "output_type": "execute_result"
    }
   ],
   "source": [
    "model.loss"
   ]
  },
  {
   "cell_type": "code",
   "execution_count": 34,
   "metadata": {},
   "outputs": [],
   "source": [
    "import numpy as np\n",
    "groundtruth = np.load('/u/mpho16/itg-data-scientists/data/itg-t1-ground-truth-iot.npy')"
   ]
  },
  {
   "cell_type": "code",
   "execution_count": 35,
   "metadata": {},
   "outputs": [
    {
     "data": {
      "text/plain": [
       "(4956, 6)"
      ]
     },
     "execution_count": 35,
     "metadata": {},
     "output_type": "execute_result"
    }
   ],
   "source": [
    "groundtruth.shape"
   ]
  },
  {
   "cell_type": "code",
   "execution_count": 36,
   "metadata": {},
   "outputs": [],
   "source": [
    "test_data = np.load('/u/mpho16/itg-data-scientists/data//itg-t1-test-data-iot.npy')"
   ]
  },
  {
   "cell_type": "code",
   "execution_count": 37,
   "metadata": {},
   "outputs": [
    {
     "data": {
      "text/plain": [
       "(4956, 90, 3, 1)"
      ]
     },
     "execution_count": 37,
     "metadata": {},
     "output_type": "execute_result"
    }
   ],
   "source": [
    "test_data.shape"
   ]
  },
  {
   "cell_type": "code",
   "execution_count": 38,
   "metadata": {},
   "outputs": [],
   "source": [
    "predictions = model.predict(x=test_data,verbose=0)"
   ]
  },
  {
   "cell_type": "code",
   "execution_count": 39,
   "metadata": {},
   "outputs": [
    {
     "data": {
      "text/plain": [
       "array([[4.9175106e-18, 1.0000000e+00, 0.0000000e+00, 0.0000000e+00,\n",
       "        3.1655494e-11, 5.5728664e-25],\n",
       "       [4.5625958e-21, 1.0000000e+00, 0.0000000e+00, 0.0000000e+00,\n",
       "        2.8878181e-11, 7.9905455e-29],\n",
       "       [2.0349766e-04, 2.0483912e-03, 9.8217799e-07, 3.5155807e-08,\n",
       "        1.3379543e-05, 9.9773371e-01],\n",
       "       ...,\n",
       "       [1.7296601e-05, 1.0824110e-07, 9.9973065e-01, 1.1611873e-04,\n",
       "        1.2016564e-04, 1.5712611e-05],\n",
       "       [8.6205418e-06, 4.1982201e-08, 9.9989414e-01, 3.5863064e-05,\n",
       "        5.3485266e-05, 7.7030345e-06],\n",
       "       [7.0992505e-06, 4.4417330e-08, 9.9989307e-01, 3.6358928e-05,\n",
       "        5.5034328e-05, 8.3460691e-06]], dtype=float32)"
      ]
     },
     "execution_count": 39,
     "metadata": {},
     "output_type": "execute_result"
    }
   ],
   "source": [
    "predictions"
   ]
  },
  {
   "cell_type": "code",
   "execution_count": 40,
   "metadata": {},
   "outputs": [
    {
     "data": {
      "text/plain": [
       "(4956, 6)"
      ]
     },
     "execution_count": 40,
     "metadata": {},
     "output_type": "execute_result"
    }
   ],
   "source": [
    "predictions.shape"
   ]
  },
  {
   "cell_type": "code",
   "execution_count": 41,
   "metadata": {},
   "outputs": [
    {
     "data": {
      "text/plain": [
       "(4956, 6)"
      ]
     },
     "execution_count": 41,
     "metadata": {},
     "output_type": "execute_result"
    }
   ],
   "source": [
    "groundtruth.shape"
   ]
  },
  {
   "cell_type": "code",
   "execution_count": 42,
   "metadata": {},
   "outputs": [
    {
     "data": {
      "text/plain": [
       "array([4.9175106e-18, 1.0000000e+00, 0.0000000e+00, 0.0000000e+00,\n",
       "       3.1655494e-11, 5.5728664e-25], dtype=float32)"
      ]
     },
     "execution_count": 42,
     "metadata": {},
     "output_type": "execute_result"
    }
   ],
   "source": [
    "predictions[0]"
   ]
  },
  {
   "cell_type": "code",
   "execution_count": 43,
   "metadata": {},
   "outputs": [],
   "source": [
    "pred_ind = np.argmax(predictions, axis=1) "
   ]
  },
  {
   "cell_type": "code",
   "execution_count": 44,
   "metadata": {},
   "outputs": [
    {
     "data": {
      "text/plain": [
       "array([1, 1, 5, ..., 2, 2, 2])"
      ]
     },
     "execution_count": 44,
     "metadata": {},
     "output_type": "execute_result"
    }
   ],
   "source": [
    "pred_ind"
   ]
  },
  {
   "cell_type": "code",
   "execution_count": 45,
   "metadata": {},
   "outputs": [],
   "source": [
    "gt = np.argmax(groundtruth, axis=1)"
   ]
  },
  {
   "cell_type": "code",
   "execution_count": 46,
   "metadata": {},
   "outputs": [
    {
     "data": {
      "text/plain": [
       "array([1, 1, 5, ..., 2, 2, 2])"
      ]
     },
     "execution_count": 46,
     "metadata": {},
     "output_type": "execute_result"
    }
   ],
   "source": [
    "gt"
   ]
  },
  {
   "cell_type": "code",
   "execution_count": 47,
   "metadata": {},
   "outputs": [
    {
     "name": "stdout",
     "output_type": "stream",
     "text": [
      "[[ 289   21    1    2   71   56]\n",
      " [   1 1522    0    0    7   11]\n",
      " [   0    0  261    0    3    1]\n",
      " [   0    0   14  227    2    0]\n",
      " [  39   31   10    0  379   44]\n",
      " [  14    5    3    0   56 1886]]\n"
     ]
    }
   ],
   "source": [
    "import sklearn.metrics\n",
    "cm = sklearn.metrics.confusion_matrix(gt, pred_ind)\n",
    "print(cm)"
   ]
  },
  {
   "cell_type": "code",
   "execution_count": 49,
   "metadata": {},
   "outputs": [
    {
     "data": {
      "text/plain": [
       "<matplotlib.axes._subplots.AxesSubplot at 0x2b69264ff790>"
      ]
     },
     "execution_count": 49,
     "metadata": {},
     "output_type": "execute_result"
    },
    {
     "data": {
      "image/png": "[encoded data removed]",
      "text/plain": [
       "<Figure size 576x432 with 2 Axes>"
      ]
     },
     "metadata": {
      "needs_background": "light"
     },
     "output_type": "display_data"
    }
   ],
   "source": [
    "import matplotlib.pyplot as plt\n",
    "import seaborn as sb\n",
    "fig = plt.figure(figsize=(8,6))\n",
    "sb.heatmap(cm,annot=True,cmap='Blues')"
   ]
  },
  {
   "cell_type": "code",
   "execution_count": 50,
   "metadata": {},
   "outputs": [
    {
     "name": "stdout",
     "output_type": "stream",
     "text": [
      "[[6.56818182e-01 1.36275146e-02 3.77358491e-03 8.23045267e-03\n",
      "  1.41153082e-01 2.85132383e-02]\n",
      " [2.27272727e-03 9.87670344e-01 0.00000000e+00 0.00000000e+00\n",
      "  1.39165010e-02 5.60081466e-03]\n",
      " [0.00000000e+00 0.00000000e+00 9.84905660e-01 0.00000000e+00\n",
      "  5.96421471e-03 5.09164969e-04]\n",
      " [0.00000000e+00 0.00000000e+00 5.28301887e-02 9.34156379e-01\n",
      "  3.97614314e-03 0.00000000e+00]\n",
      " [8.86363636e-02 2.01168073e-02 3.77358491e-02 0.00000000e+00\n",
      "  7.53479125e-01 2.24032587e-02]\n",
      " [3.18181818e-02 3.24464633e-03 1.13207547e-02 0.00000000e+00\n",
      "  1.11332008e-01 9.60285132e-01]]\n"
     ]
    }
   ],
   "source": [
    "norm_cm=cm/cm.astype(np.float).sum(axis=1)\n",
    "print(norm_cm)"
   ]
  },
  {
   "cell_type": "code",
   "execution_count": 51,
   "metadata": {},
   "outputs": [],
   "source": [
    "import matplotlib.pyplot as plt\n",
    "from matplotlib.pyplot import figure\n",
    "\n",
    "\n",
    "# since sklearn 0.22, you can use sklearn.metrics.plot_confusion_matrix()\n",
    "def plot_confusion_matrix(cm, classes, title='confusion_matrix', cmap=plt.cm.Blues):\n",
    "    \n",
    "    figure(figsize=(8, 6), dpi=80)\n",
    "    plt.imshow(cm,interpolation='nearest', cmap=cmap)\n",
    "    plt.title(title)\n",
    "    plt.colorbar()\n",
    "    tick_marks = np.arange(len(classes))\n",
    "    plt.xticks(tick_marks, classes, rotation=45)\n",
    "    plt.yticks(tick_marks, classes)\n",
    "    \n",
    "    plt.tight_layout()\n",
    "    plt.ylabel('True_label')\n",
    "    plt.xlabel('Predicted label')\n",
    "#     fig = plt.figure(figsize=(15,15))\n",
    "    \n",
    "    "
   ]
  },
  {
   "cell_type": "code",
   "execution_count": 52,
   "metadata": {},
   "outputs": [
    {
     "data": {
      "image/png": "[encoded data removed]",
      "text/plain": [
       "<Figure size 640x480 with 2 Axes>"
      ]
     },
     "metadata": {
      "needs_background": "light"
     },
     "output_type": "display_data"
    }
   ],
   "source": [
    "cm_plot_labels = ['Downstairs', 'Jogging', 'Sitting', 'Standing', 'Upstairs', 'Walking']\n",
    "plot_confusion_matrix(norm_cm, classes=cm_plot_labels, title='Confusion Matrix')\n"
   ]
  },
  {
   "cell_type": "code",
   "execution_count": 53,
   "metadata": {},
   "outputs": [
    {
     "name": "stdout",
     "output_type": "stream",
     "text": [
      "0.9209039548022598\n"
     ]
    }
   ],
   "source": [
    "accuracy = np.diag(cm).sum()/cm.sum().sum()\n",
    "print(accuracy)"
   ]
  },
  {
   "cell_type": "code",
   "execution_count": null,
   "metadata": {},
   "outputs": [],
   "source": []
  }
 ],
 "metadata": {
  "kernelspec": {
   "display_name": "Python 3",
   "language": "python",
   "name": "python3"
  },
  "language_info": {
   "codemirror_mode": {
    "name": "ipython",
    "version": 3
   },
   "file_extension": ".py",
   "mimetype": "text/x-python",
   "name": "python",
   "nbconvert_exporter": "python",
   "pygments_lexer": "ipython3",
   "version": "3.8.8"
  }
 },
 "nbformat": 4,
 "nbformat_minor": 4
}
